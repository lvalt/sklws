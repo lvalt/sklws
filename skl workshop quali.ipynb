{
 "cells": [
  {
   "cell_type": "markdown",
   "id": "824355aa",
   "metadata": {},
   "source": [
    "## Below type in the specifications for how you want to run the example with CERN news pieces"
   ]
  },
  {
   "cell_type": "markdown",
   "id": "1e88db70",
   "metadata": {},
   "source": [
    "For language to be understood by computers, it needs to be turned into a numerical form. That begins with separating the words in a document into units called tokens. Here, the example uses simple tokens of singular words which are lemmatized: For the words the \"base\" form is found out with a statistical approach.\n",
    "\n",
    "<b>There are different ways to do tokenization (e.g., n-grams) and lemmatization (e.g., stemming or doing nothing). Quickly search for the benefits of the different approaches and decide what you want to choose for the few of such selected options for parameters below.</b>"
   ]
  },
  {
   "cell_type": "code",
   "execution_count": 1,
   "id": "2607115e",
   "metadata": {},
   "outputs": [],
   "source": [
    "'''\n",
    "Choose below \"NO\" for no stopword removal, \"YES\" for stopword removal\n",
    "'''\n",
    "chosen_stopword_removal = \"NO\"\n",
    "\n",
    "'''\n",
    "Choose below \"YES\" to lemmatize documents, else choose \"NO\"\n",
    "'''\n",
    "chosen_lemmatization = \"NO\"\n",
    "\n",
    "'''\n",
    "Choose below \"BOW\" or \"TFIDF\" for vectorization\n",
    "'''\n",
    "chosen_vectorization = \"BOW\""
   ]
  },
  {
   "cell_type": "markdown",
   "id": "cd46173c",
   "metadata": {},
   "source": [
    "Below are some different types of machine learning algorithms. Acquaint yourself with the basic pros and cons of each. If you wish to, you can also find other types of ML to learn about at scikit-learn.org.\n",
    "\n",
    "__[Neural Network](https://scikit-learn.org/stable/modules/neural_networks_supervised.html)__\n",
    "\n",
    "__[Support Vector Machine](https://scikit-learn.org/stable/modules/svm.html#svm)__\n",
    "\n",
    "__[Nearest Neighbours](https://scikit-learn.org/stable/modules/neighbors.html)__\n",
    "\n",
    "__[Decision Tree](https://scikit-learn.org/stable/modules/tree.html#tree)__"
   ]
  },
  {
   "cell_type": "markdown",
   "id": "87b214ce",
   "metadata": {},
   "source": [
    "Some specifics are required to the algorithms such as how many iterations to use, how to scale data, etc. If you want to get acquainted with the different such options, use the links above to learn about the parameters and their effects.\n",
    "\n",
    "However, <b>consider: Who would know which parameters to use and why if you were to implement AI in your organization?</b>"
   ]
  },
  {
   "cell_type": "code",
   "execution_count": 2,
   "id": "6e8c7591",
   "metadata": {},
   "outputs": [],
   "source": [
    "'''\n",
    "Choose below\n",
    "\"KNN\" for nearest neighbours\n",
    "\"NN\" for neural network\n",
    "\"SVM\" for support vector machine\n",
    "\"Tree\" for decision-tree\n",
    "'''\n",
    "chosen_algorithm = \"Tree\""
   ]
  },
  {
   "cell_type": "markdown",
   "id": "44d3adf6",
   "metadata": {},
   "source": [
    "Here we import the basic libraries required for data analysis with Python!"
   ]
  },
  {
   "cell_type": "code",
   "execution_count": 3,
   "id": "602e1836",
   "metadata": {},
   "outputs": [],
   "source": [
    "#Here we import the basic Python data analytics libraries\n",
    "import warnings\n",
    "warnings.filterwarnings(\"ignore\")\n",
    "\n",
    "import pandas as pd   # includes tools used in reading data\n",
    "import numpy as np   # includes tools for numerical calculus\n",
    "import matplotlib.pyplot as plt  # includes tools used in plotting data"
   ]
  },
  {
   "cell_type": "markdown",
   "id": "a8c63c99",
   "metadata": {},
   "source": [
    "Below we define a function that we can use to track how much time and memory the code uses between a certain part of running the code."
   ]
  },
  {
   "cell_type": "code",
   "execution_count": 4,
   "id": "73a36c1e",
   "metadata": {},
   "outputs": [],
   "source": [
    "import psutil\n",
    "import time\n",
    "\n",
    "def track_memory_and_time(start_time=None):\n",
    "    \"\"\"\n",
    "    Track memory usage and elapsed time since a specific point in the code.\n",
    "\n",
    "    Parameters:\n",
    "    - start_time: Optional parameter. If provided, it should be the result of a previous call to time.time().\n",
    "\n",
    "    Returns:\n",
    "    - memory_usage: Current memory usage in bytes.\n",
    "    - elapsed_time: Elapsed time in seconds since the specified start time.\n",
    "    \"\"\"\n",
    "\n",
    "    # Get memory usage\n",
    "    memory_usage = psutil.virtual_memory().used\n",
    "\n",
    "    # Get elapsed time\n",
    "    current_time = time.time()\n",
    "    elapsed_time = current_time - start_time if start_time else 0\n",
    "\n",
    "    return memory_usage, elapsed_time"
   ]
  },
  {
   "cell_type": "code",
   "execution_count": 5,
   "id": "878668dd",
   "metadata": {},
   "outputs": [],
   "source": [
    "#Defining and creating a function with which you can later on get the accuracy of the ML/AI algorithm\n",
    "def accuracy(clf, X_test, y_test):\n",
    "    score = str(clf.score(X_test, y_test)*100)+'%'\n",
    "\n",
    "    return score"
   ]
  },
  {
   "cell_type": "code",
   "execution_count": 6,
   "id": "d82ec9bc",
   "metadata": {},
   "outputs": [],
   "source": [
    "#this is just defining and creating a function with which you can later on compare the AI predictions to the original data\n",
    "def find_differences(clf, X_test, y_test):\n",
    "    \n",
    "    predictions = []\n",
    "    test_labels = []\n",
    "    column_names = list(X_test.columns.values)\n",
    "    events = pd.DataFrame(columns=list(X_test.columns.values))\n",
    "    \n",
    "    for i in range(len(list(y_test))-1):\n",
    "        if str(clf.predict([X_test.values[i+1]])[0]) != list(y_test)[i+1]:\n",
    "            predictions.append(clf.predict([X_test.values[i+1]])[0])\n",
    "            test_labels.append(list(y_test)[i+1])\n",
    "            events.loc[len(events)] = X_test.values[i+1]\n",
    "               \n",
    "    df = pd.DataFrame(columns=['Prediction', 'Original label'])\n",
    "    df['Prediction']= predictions\n",
    "    df['Original label']= test_labels\n",
    "\n",
    "    df = pd.concat([df, events], axis=1)\n",
    "    return df"
   ]
  },
  {
   "cell_type": "code",
   "execution_count": 7,
   "id": "4d2956df",
   "metadata": {},
   "outputs": [],
   "source": [
    "#Move this block to the location in the code from where you want to start tracking\n",
    "start_time = time.time()"
   ]
  },
  {
   "cell_type": "code",
   "execution_count": 8,
   "id": "1ac8e441",
   "metadata": {},
   "outputs": [],
   "source": [
    "#Here we import the different ML algorithms from the scikit-learn library\n",
    "\n",
    "from sklearn.neural_network import MLPClassifier\n",
    "#Neural Network\n",
    "\n",
    "from sklearn import svm\n",
    "#Support Vector Machine\n",
    "\n",
    "from sklearn.neighbors import NearestNeighbors, KNeighborsClassifier \n",
    "#Nearest Neighbours\n",
    "\n",
    "from sklearn import tree\n",
    "#Decision tree"
   ]
  },
  {
   "cell_type": "code",
   "execution_count": 9,
   "id": "ba131392",
   "metadata": {},
   "outputs": [],
   "source": [
    "def choose_algorithm(name):\n",
    "    if name == \"NN\":\n",
    "        clf = MLPClassifier(random_state=1, max_iter=300).fit(X_train, y_train)\n",
    "    elif name == \"KNN\":\n",
    "        from sklearn.pipeline import Pipeline\n",
    "        from sklearn.preprocessing import StandardScaler\n",
    "        clf = Pipeline(steps=[(\"scaler\", StandardScaler()), (\"knn\", KNeighborsClassifier(n_neighbors=11))])\n",
    "    elif name == \"SVM\":\n",
    "        clf = svm.SVC()\n",
    "    else:\n",
    "        clf = tree.DecisionTreeClassifier()\n",
    "        \n",
    "    return clf"
   ]
  },
  {
   "cell_type": "markdown",
   "id": "51bb86dd",
   "metadata": {},
   "source": [
    "## Qualitative\n",
    "\n",
    "For supervised machine learning, you need a dataset and correct labels to give to it.\n",
    "\n",
    "<b>For your work, think of an AI task using qualitative data, e.g., text of images, that would be useful for you and determine the type of data you would need to teach to an AI: Where or how can you get 10k+ examples with the correct \"labels\" assigned to the datapoints - what resources would you need to create/retrieve this data?</b>\n",
    "\n",
    "The example here uses text pieces."
   ]
  },
  {
   "cell_type": "code",
   "execution_count": 10,
   "id": "0463c4d6",
   "metadata": {},
   "outputs": [],
   "source": [
    "#! conda install -c conda-forge spacy"
   ]
  },
  {
   "cell_type": "code",
   "execution_count": 11,
   "id": "46632a20",
   "metadata": {},
   "outputs": [
    {
     "name": "stdout",
     "output_type": "stream",
     "text": [
      "Collecting en-core-web-sm==3.7.1\n",
      "  Downloading https://github.com/explosion/spacy-models/releases/download/en_core_web_sm-3.7.1/en_core_web_sm-3.7.1-py3-none-any.whl (12.8 MB)\n",
      "     ---------------------------------------- 0.0/12.8 MB ? eta -:--:--\n",
      "     --------------------------------------- 0.0/12.8 MB 682.7 kB/s eta 0:00:19\n",
      "     --------------------------------------- 0.0/12.8 MB 667.8 kB/s eta 0:00:20\n",
      "     - -------------------------------------- 0.3/12.8 MB 2.9 MB/s eta 0:00:05\n",
      "     -- ------------------------------------- 0.7/12.8 MB 4.4 MB/s eta 0:00:03\n",
      "     --- ------------------------------------ 1.1/12.8 MB 5.5 MB/s eta 0:00:03\n",
      "     ----- ---------------------------------- 1.7/12.8 MB 6.6 MB/s eta 0:00:02\n",
      "     ------ --------------------------------- 2.2/12.8 MB 7.5 MB/s eta 0:00:02\n",
      "     --------- ------------------------------ 2.9/12.8 MB 8.4 MB/s eta 0:00:02\n",
      "     ----------- ---------------------------- 3.6/12.8 MB 9.1 MB/s eta 0:00:02\n",
      "     ------------ --------------------------- 3.9/12.8 MB 9.0 MB/s eta 0:00:01\n",
      "     -------------- ------------------------- 4.6/12.8 MB 9.5 MB/s eta 0:00:01\n",
      "     ---------------- ----------------------- 5.4/12.8 MB 10.2 MB/s eta 0:00:01\n",
      "     ------------------- -------------------- 6.4/12.8 MB 11.0 MB/s eta 0:00:01\n",
      "     ---------------------- ----------------- 7.2/12.8 MB 11.5 MB/s eta 0:00:01\n",
      "     ------------------------- -------------- 8.1/12.8 MB 12.1 MB/s eta 0:00:01\n",
      "     ---------------------------- ----------- 9.0/12.8 MB 12.6 MB/s eta 0:00:01\n",
      "     ------------------------------ -------- 10.1/12.8 MB 13.2 MB/s eta 0:00:01\n",
      "     --------------------------------- ----- 11.1/12.8 MB 16.0 MB/s eta 0:00:01\n",
      "     ------------------------------------ -- 12.0/12.8 MB 17.2 MB/s eta 0:00:01\n",
      "     --------------------------------------  12.8/12.8 MB 18.2 MB/s eta 0:00:01\n",
      "     --------------------------------------- 12.8/12.8 MB 17.2 MB/s eta 0:00:00\n",
      "Requirement already satisfied: spacy<3.8.0,>=3.7.2 in c:\\users\\lavalton\\appdata\\local\\anaconda3\\envs\\ai_task\\lib\\site-packages (from en-core-web-sm==3.7.1) (3.7.2)\n",
      "Requirement already satisfied: spacy-legacy<3.1.0,>=3.0.11 in c:\\users\\lavalton\\appdata\\local\\anaconda3\\envs\\ai_task\\lib\\site-packages (from spacy<3.8.0,>=3.7.2->en-core-web-sm==3.7.1) (3.0.12)\n",
      "Requirement already satisfied: spacy-loggers<2.0.0,>=1.0.0 in c:\\users\\lavalton\\appdata\\local\\anaconda3\\envs\\ai_task\\lib\\site-packages (from spacy<3.8.0,>=3.7.2->en-core-web-sm==3.7.1) (1.0.4)\n",
      "Requirement already satisfied: murmurhash<1.1.0,>=0.28.0 in c:\\users\\lavalton\\appdata\\local\\anaconda3\\envs\\ai_task\\lib\\site-packages (from spacy<3.8.0,>=3.7.2->en-core-web-sm==3.7.1) (1.0.7)\n",
      "Requirement already satisfied: cymem<2.1.0,>=2.0.2 in c:\\users\\lavalton\\appdata\\local\\anaconda3\\envs\\ai_task\\lib\\site-packages (from spacy<3.8.0,>=3.7.2->en-core-web-sm==3.7.1) (2.0.6)\n",
      "Requirement already satisfied: preshed<3.1.0,>=3.0.2 in c:\\users\\lavalton\\appdata\\local\\anaconda3\\envs\\ai_task\\lib\\site-packages (from spacy<3.8.0,>=3.7.2->en-core-web-sm==3.7.1) (3.0.6)\n",
      "Requirement already satisfied: thinc<8.3.0,>=8.1.8 in c:\\users\\lavalton\\appdata\\local\\anaconda3\\envs\\ai_task\\lib\\site-packages (from spacy<3.8.0,>=3.7.2->en-core-web-sm==3.7.1) (8.1.10)\n",
      "Requirement already satisfied: wasabi<1.2.0,>=0.9.1 in c:\\users\\lavalton\\appdata\\local\\anaconda3\\envs\\ai_task\\lib\\site-packages (from spacy<3.8.0,>=3.7.2->en-core-web-sm==3.7.1) (0.9.1)\n",
      "Requirement already satisfied: srsly<3.0.0,>=2.4.3 in c:\\users\\lavalton\\appdata\\local\\anaconda3\\envs\\ai_task\\lib\\site-packages (from spacy<3.8.0,>=3.7.2->en-core-web-sm==3.7.1) (2.4.8)\n",
      "Requirement already satisfied: catalogue<2.1.0,>=2.0.6 in c:\\users\\lavalton\\appdata\\local\\anaconda3\\envs\\ai_task\\lib\\site-packages (from spacy<3.8.0,>=3.7.2->en-core-web-sm==3.7.1) (2.0.7)\n",
      "Requirement already satisfied: weasel<0.4.0,>=0.1.0 in c:\\users\\lavalton\\appdata\\local\\anaconda3\\envs\\ai_task\\lib\\site-packages (from spacy<3.8.0,>=3.7.2->en-core-web-sm==3.7.1) (0.3.4)\n",
      "Requirement already satisfied: typer<0.10.0,>=0.3.0 in c:\\users\\lavalton\\appdata\\local\\anaconda3\\envs\\ai_task\\lib\\site-packages (from spacy<3.8.0,>=3.7.2->en-core-web-sm==3.7.1) (0.4.1)\n",
      "Requirement already satisfied: smart-open<7.0.0,>=5.2.1 in c:\\users\\lavalton\\appdata\\local\\anaconda3\\envs\\ai_task\\lib\\site-packages (from spacy<3.8.0,>=3.7.2->en-core-web-sm==3.7.1) (5.2.1)\n",
      "Requirement already satisfied: tqdm<5.0.0,>=4.38.0 in c:\\users\\lavalton\\appdata\\local\\anaconda3\\envs\\ai_task\\lib\\site-packages (from spacy<3.8.0,>=3.7.2->en-core-web-sm==3.7.1) (4.65.0)\n",
      "Requirement already satisfied: requests<3.0.0,>=2.13.0 in c:\\users\\lavalton\\appdata\\local\\anaconda3\\envs\\ai_task\\lib\\site-packages (from spacy<3.8.0,>=3.7.2->en-core-web-sm==3.7.1) (2.31.0)\n",
      "Requirement already satisfied: pydantic!=1.8,!=1.8.1,<3.0.0,>=1.7.4 in c:\\users\\lavalton\\appdata\\local\\anaconda3\\envs\\ai_task\\lib\\site-packages (from spacy<3.8.0,>=3.7.2->en-core-web-sm==3.7.1) (1.10.12)\n",
      "Requirement already satisfied: jinja2 in c:\\users\\lavalton\\appdata\\local\\anaconda3\\envs\\ai_task\\lib\\site-packages (from spacy<3.8.0,>=3.7.2->en-core-web-sm==3.7.1) (3.1.2)\n",
      "Requirement already satisfied: setuptools in c:\\users\\lavalton\\appdata\\local\\anaconda3\\envs\\ai_task\\lib\\site-packages (from spacy<3.8.0,>=3.7.2->en-core-web-sm==3.7.1) (68.0.0)\n",
      "Requirement already satisfied: packaging>=20.0 in c:\\users\\lavalton\\appdata\\local\\anaconda3\\envs\\ai_task\\lib\\site-packages (from spacy<3.8.0,>=3.7.2->en-core-web-sm==3.7.1) (23.1)\n",
      "Requirement already satisfied: langcodes<4.0.0,>=3.2.0 in c:\\users\\lavalton\\appdata\\local\\anaconda3\\envs\\ai_task\\lib\\site-packages (from spacy<3.8.0,>=3.7.2->en-core-web-sm==3.7.1) (3.3.0)\n",
      "Requirement already satisfied: numpy>=1.19.0 in c:\\users\\lavalton\\appdata\\local\\anaconda3\\envs\\ai_task\\lib\\site-packages (from spacy<3.8.0,>=3.7.2->en-core-web-sm==3.7.1) (1.24.3)\n",
      "Requirement already satisfied: typing-extensions>=4.2.0 in c:\\users\\lavalton\\appdata\\local\\anaconda3\\envs\\ai_task\\lib\\site-packages (from pydantic!=1.8,!=1.8.1,<3.0.0,>=1.7.4->spacy<3.8.0,>=3.7.2->en-core-web-sm==3.7.1) (4.7.1)\n",
      "Requirement already satisfied: charset-normalizer<4,>=2 in c:\\users\\lavalton\\appdata\\local\\anaconda3\\envs\\ai_task\\lib\\site-packages (from requests<3.0.0,>=2.13.0->spacy<3.8.0,>=3.7.2->en-core-web-sm==3.7.1) (2.0.4)\n",
      "Requirement already satisfied: idna<4,>=2.5 in c:\\users\\lavalton\\appdata\\local\\anaconda3\\envs\\ai_task\\lib\\site-packages (from requests<3.0.0,>=2.13.0->spacy<3.8.0,>=3.7.2->en-core-web-sm==3.7.1) (3.4)\n",
      "Requirement already satisfied: urllib3<3,>=1.21.1 in c:\\users\\lavalton\\appdata\\local\\anaconda3\\envs\\ai_task\\lib\\site-packages (from requests<3.0.0,>=2.13.0->spacy<3.8.0,>=3.7.2->en-core-web-sm==3.7.1) (1.26.18)\n",
      "Requirement already satisfied: certifi>=2017.4.17 in c:\\users\\lavalton\\appdata\\local\\anaconda3\\envs\\ai_task\\lib\\site-packages (from requests<3.0.0,>=2.13.0->spacy<3.8.0,>=3.7.2->en-core-web-sm==3.7.1) (2023.11.17)\n",
      "Requirement already satisfied: blis<0.8.0,>=0.7.8 in c:\\users\\lavalton\\appdata\\local\\anaconda3\\envs\\ai_task\\lib\\site-packages (from thinc<8.3.0,>=8.1.8->spacy<3.8.0,>=3.7.2->en-core-web-sm==3.7.1) (0.7.9)\n",
      "Requirement already satisfied: confection<1.0.0,>=0.0.1 in c:\\users\\lavalton\\appdata\\local\\anaconda3\\envs\\ai_task\\lib\\site-packages (from thinc<8.3.0,>=8.1.8->spacy<3.8.0,>=3.7.2->en-core-web-sm==3.7.1) (0.0.4)\n",
      "Requirement already satisfied: colorama in c:\\users\\lavalton\\appdata\\local\\anaconda3\\envs\\ai_task\\lib\\site-packages (from tqdm<5.0.0,>=4.38.0->spacy<3.8.0,>=3.7.2->en-core-web-sm==3.7.1) (0.4.6)\n",
      "Requirement already satisfied: click<9.0.0,>=7.1.1 in c:\\users\\lavalton\\appdata\\local\\anaconda3\\envs\\ai_task\\lib\\site-packages (from typer<0.10.0,>=0.3.0->spacy<3.8.0,>=3.7.2->en-core-web-sm==3.7.1) (8.1.7)\n",
      "Requirement already satisfied: cloudpathlib<0.17.0,>=0.7.0 in c:\\users\\lavalton\\appdata\\local\\anaconda3\\envs\\ai_task\\lib\\site-packages (from weasel<0.4.0,>=0.1.0->spacy<3.8.0,>=3.7.2->en-core-web-sm==3.7.1) (0.16.0)\n",
      "Requirement already satisfied: MarkupSafe>=2.0 in c:\\users\\lavalton\\appdata\\local\\anaconda3\\envs\\ai_task\\lib\\site-packages (from jinja2->spacy<3.8.0,>=3.7.2->en-core-web-sm==3.7.1) (2.1.1)\n",
      "[+] Download and installation successful\n",
      "You can now load the package via spacy.load('en_core_web_sm')\n"
     ]
    }
   ],
   "source": [
    "! python -m spacy download en_core_web_sm"
   ]
  },
  {
   "cell_type": "code",
   "execution_count": 12,
   "id": "e20abc7d",
   "metadata": {},
   "outputs": [],
   "source": [
    "'''\n",
    "Importing the Python libraries to analyze and treat text data.\n",
    "'''\n",
    "import re\n",
    "import spacy\n",
    "spacy_model = \"en_core_web_sm\""
   ]
  },
  {
   "cell_type": "markdown",
   "id": "349a67dd",
   "metadata": {},
   "source": [
    "Opening up the file with the data, this is the example, if you have different data in mind, you can use that..."
   ]
  },
  {
   "cell_type": "code",
   "execution_count": 13,
   "id": "83b70485",
   "metadata": {},
   "outputs": [
    {
     "data": {
      "text/html": [
       "<div>\n",
       "<style scoped>\n",
       "    .dataframe tbody tr th:only-of-type {\n",
       "        vertical-align: middle;\n",
       "    }\n",
       "\n",
       "    .dataframe tbody tr th {\n",
       "        vertical-align: top;\n",
       "    }\n",
       "\n",
       "    .dataframe thead th {\n",
       "        text-align: right;\n",
       "    }\n",
       "</style>\n",
       "<table border=\"1\" class=\"dataframe\">\n",
       "  <thead>\n",
       "    <tr style=\"text-align: right;\">\n",
       "      <th></th>\n",
       "      <th>Document</th>\n",
       "      <th>Label</th>\n",
       "    </tr>\n",
       "  </thead>\n",
       "  <tbody>\n",
       "    <tr>\n",
       "      <th>0</th>\n",
       "      <td>We want to minimize the damage to normal tissu...</td>\n",
       "      <td>Human capital</td>\n",
       "    </tr>\n",
       "    <tr>\n",
       "      <th>1</th>\n",
       "      <td>Marsollier said the weasel died - and little r...</td>\n",
       "      <td>Technology</td>\n",
       "    </tr>\n",
       "    <tr>\n",
       "      <th>2</th>\n",
       "      <td>We're out of kindergarten, but only in about t...</td>\n",
       "      <td>Human capital</td>\n",
       "    </tr>\n",
       "    <tr>\n",
       "      <th>3</th>\n",
       "      <td>Sign up to receive our weekly newsletter of th...</td>\n",
       "      <td>Human capital</td>\n",
       "    </tr>\n",
       "    <tr>\n",
       "      <th>4</th>\n",
       "      <td>Ministry of Foreign Affairs\\nQuote\\nPrime Mini...</td>\n",
       "      <td>Human capital</td>\n",
       "    </tr>\n",
       "  </tbody>\n",
       "</table>\n",
       "</div>"
      ],
      "text/plain": [
       "                                            Document          Label\n",
       "0  We want to minimize the damage to normal tissu...  Human capital\n",
       "1  Marsollier said the weasel died - and little r...     Technology\n",
       "2  We're out of kindergarten, but only in about t...  Human capital\n",
       "3  Sign up to receive our weekly newsletter of th...  Human capital\n",
       "4  Ministry of Foreign Affairs\\nQuote\\nPrime Mini...  Human capital"
      ]
     },
     "execution_count": 13,
     "metadata": {},
     "output_type": "execute_result"
    }
   ],
   "source": [
    "df = pd.read_excel('cern_news_data.xlsx')\n",
    "#Choosing the columns we want for our analysis\n",
    "df = df[['Document', 'Label']]\n",
    "#Dropping rows with empty data\n",
    "df = df.dropna(how = 'any',axis = 0).reset_index(drop = True)\n",
    "#Dropping rows of duplicate text documents\n",
    "df = df.drop_duplicates(subset=\"Document\")\n",
    "df = df.sample(frac = 1).reset_index(drop=True)\n",
    "df.head()"
   ]
  },
  {
   "cell_type": "markdown",
   "id": "49311101",
   "metadata": {},
   "source": [
    "<b>What operations do you need to perform on the data you have to clean it up?</b>"
   ]
  },
  {
   "cell_type": "code",
   "execution_count": 14,
   "id": "7e877528",
   "metadata": {},
   "outputs": [],
   "source": [
    "#Making a new list of text documents with extra whitespace and asterisks and quotation marks \n",
    "#that would complicate further cleansing removed\n",
    "cleaner_documents = [text.replace(\"*\", \" \").replace('\"','') for text in list(df['Document'])]\n",
    "clean_documents = [re.sub('[\\s+]', ' ',text) for text in cleaner_documents]\n",
    "\n",
    "#Adding the cleansed documents to the dataframe\n",
    "df['Document Clean'] = clean_documents"
   ]
  },
  {
   "cell_type": "code",
   "execution_count": 15,
   "id": "afa2600e",
   "metadata": {},
   "outputs": [
    {
     "name": "stdout",
     "output_type": "stream",
     "text": [
      "We want to minimize the damage to normal tissues.'' The device was adapted from a pixel-detecting tool that physicists use at the Large Hadron Collider, the underground tunnel with a diameter of nearly 17 miles at the European Organization for Nuclear Research, known as CERN. It was originally designed to track particles as they moved through the accelerator tube.\n",
      "\n",
      "Marsollier said the weasel died - and little remains of it. Officials of the European Organization for Nuclear Research, known by its French acronym CERN, have been gearing up for new data from the 27-kilometre circuit that runs underground on the Swiss-French border. \n",
      "\n",
      "We're out of kindergarten, but only in about third grade.'' In three decades of searching, the experimentalists have not found any trace of Dr. Glashow's garbage, notwithstanding occasional rumors that the dark matter particle, the secret ingredient of the universe, has been spotted in some underground tank or fleeing through the detectors at a place like CERN, the European Organization for Nuclear Research in Geneva. If true, the rumors could have sent Dr. Rubin straight to Stockholm to pick up a Nobel Prize.\n",
      "\n",
      "Sign up to receive our weekly newsletter of the most popular space stories: The European Organization for Nuclear Research (CERN) has released a wealth of information about the most basic physics of the universe. The Washington Post reports that CERN's new public release of 300 terabytes of data is equivalent to the storage capacity of 20,000 Gmail accounts.\n",
      "\n",
      "Ministry of Foreign Affairs Quote Prime Minister of Pakistan, Mr. Muhammad Nawaz Sharif, will participate in the Annual Meeting of the World Economic Forum (WEF) to be held at Davos, Switzerland, from 20 to 25 January 2016. He will also visit CERN (European Organization for Nuclear Research), one of the foremost international centres of scientific research. At the WEF Annual Meeting 2016, 3000 heads of states/government, top business leaders, academics and media leaders are expected to attend.\n",
      "\n"
     ]
    }
   ],
   "source": [
    "#Seeing what the cleansed documents look like\n",
    "for clean_document in clean_documents[:5]:\n",
    "    print(clean_document+\"\\n\")"
   ]
  },
  {
   "cell_type": "code",
   "execution_count": 16,
   "id": "b9f46e3f",
   "metadata": {},
   "outputs": [
    {
     "name": "stdout",
     "output_type": "stream",
     "text": [
      "Cleansed: We want to minimize the damage to normal tissues.'' The device was adapted from a pixel-detecting tool that physicists use at the Large Hadron Collider, the underground tunnel with a diameter of nearly 17 miles at the European Organization for Nuclear Research, known as CERN. It was originally designed to track particles as they moved through the accelerator tube.\n",
      "\n",
      "Tokenized: ['we', 'want', 'to', 'minimize', 'the', 'damage', 'to', 'normal', 'tissues', 'the', 'device', 'was', 'adapted', 'from', 'a', 'pixel', 'detecting', 'tool', 'that', 'physicists', 'use', 'at', 'the', 'large', 'hadron', 'collider', 'the', 'underground', 'tunnel', 'with', 'a', 'diameter', 'of', 'at', 'known', 'as', 'it', 'was', 'originally', 'designed', 'to', 'track', 'particles', 'as', 'they', 'moved', 'through', 'the', 'accelerator', 'tube']\n",
      "\n",
      "Cleansed: Marsollier said the weasel died - and little remains of it. Officials of the European Organization for Nuclear Research, known by its French acronym CERN, have been gearing up for new data from the 27-kilometre circuit that runs underground on the Swiss-French border. \n",
      "\n",
      "Tokenized: ['marsollier', 'said', 'the', 'weasel', 'died', 'and', 'little', 'remains', 'of', 'it', 'officials', 'of', 'known', 'by', 'its', 'acronym', 'have', 'been', 'gearing', 'up', 'for', 'new', 'data', 'from', 'the', 'circuit', 'that', 'runs', 'underground', 'on', 'the', 'border']\n",
      "\n",
      "Cleansed: We're out of kindergarten, but only in about third grade.'' In three decades of searching, the experimentalists have not found any trace of Dr. Glashow's garbage, notwithstanding occasional rumors that the dark matter particle, the secret ingredient of the universe, has been spotted in some underground tank or fleeing through the detectors at a place like CERN, the European Organization for Nuclear Research in Geneva. If true, the rumors could have sent Dr. Rubin straight to Stockholm to pick up a Nobel Prize.\n",
      "\n",
      "Tokenized: ['we', \"'re\", 'out', 'of', 'kindergarten', 'but', 'only', 'in', 'grade', 'in', 'of', 'searching', 'the', 'experimentalists', 'have', 'not', 'found', 'any', 'trace', 'of', 'dr.', \"'s\", 'garbage', 'notwithstanding', 'occasional', 'rumors', 'that', 'the', 'dark', 'matter', 'particle', 'the', 'secret', 'ingredient', 'of', 'the', 'universe', 'has', 'been', 'spotted', 'in', 'some', 'underground', 'tank', 'or', 'fleeing', 'through', 'the', 'detectors', 'at', 'a', 'place', 'like', 'in', 'if', 'true', 'the', 'rumors', 'could', 'have', 'sent', 'dr.', 'straight', 'to', 'to', 'pick', 'up']\n",
      "\n",
      "Cleansed: Sign up to receive our weekly newsletter of the most popular space stories: The European Organization for Nuclear Research (CERN) has released a wealth of information about the most basic physics of the universe. The Washington Post reports that CERN's new public release of 300 terabytes of data is equivalent to the storage capacity of 20,000 Gmail accounts.\n",
      "\n",
      "Tokenized: ['sign', 'up', 'to', 'receive', 'our', 'newsletter', 'of', 'the', 'most', 'popular', 'space', 'stories', 'cern', 'has', 'released', 'a', 'wealth', 'of', 'information', 'about', 'the', 'most', 'basic', 'physics', 'of', 'the', 'universe', 'reports', 'that', \"'s\", 'new', 'public', 'release', 'of', 'terabytes', 'of', 'data', 'is', 'equivalent', 'to', 'the', 'storage', 'capacity', 'of', 'accounts']\n",
      "\n",
      "Cleansed: Ministry of Foreign Affairs Quote Prime Minister of Pakistan, Mr. Muhammad Nawaz Sharif, will participate in the Annual Meeting of the World Economic Forum (WEF) to be held at Davos, Switzerland, from 20 to 25 January 2016. He will also visit CERN (European Organization for Nuclear Research), one of the foremost international centres of scientific research. At the WEF Annual Meeting 2016, 3000 heads of states/government, top business leaders, academics and media leaders are expected to attend.\n",
      "\n",
      "Tokenized: ['prime', 'minister', 'of', 'mr.', 'will', 'participate', 'in', 'wef', 'to', 'be', 'held', 'at', 'from', 'he', 'will', 'also', 'visit', 'of', 'the', 'foremost', 'international', 'centres', 'of', 'scientific', 'research', 'at', 'the', 'wef', 'annual', 'meeting', 'heads', 'of', 'states', 'government', 'top', 'business', 'leaders', 'academics', 'and', 'media', 'leaders', 'are', 'expected', 'to', 'attend']\n",
      "\n"
     ]
    }
   ],
   "source": [
    "#Lemmatization:\n",
    "lemmatized = True\n",
    "if chosen_lemmatization == \"NO\":\n",
    "    lemmatized = False\n",
    "\n",
    "#Loading a python library for natural language processing\n",
    "nlp = spacy.load(spacy_model, disable=['merge_noun_chunks'])\n",
    "\n",
    "#Creating a function that will dothe basic tokenization of the documents\n",
    "def basic_tokenizer(document, lemmatized=lemmatized):\n",
    "    #Converting the text document into a Spacy document\n",
    "    document = nlp(document)\n",
    "    if chosen_stopword_removal == \"YES\":\n",
    "        if not lemmatized:\n",
    "            tokenized = [token.text.lower() for token in document if token.ent_iob == 2 #<- This removes known entities\n",
    "                         and not (token.is_stop or token.is_punct or token.is_space or token.like_num \n",
    "                                  or token.like_url or token.like_email)]\n",
    "        if lemmatized:\n",
    "            tokenized = [token.lemma_.lower() for token in document if token.ent_iob == 2 #<- This removes known entities\n",
    "                         and not (token.is_stop or token.is_punct or token.is_space or token.like_num \n",
    "                                  or token.like_url or token.like_email)]\n",
    "    else:\n",
    "        if not lemmatized:\n",
    "            tokenized = [token.text.lower() for token in document if token.ent_iob == 2 #<- This removes known entities\n",
    "                         and not (token.is_punct or token.is_space or token.like_num \n",
    "                                  or token.like_url or token.like_email)]\n",
    "        if lemmatized:\n",
    "            tokenized = [token.lemma_.lower() for token in document if token.ent_iob == 2 #<- This removes known entities\n",
    "                         and not (token.is_punct or token.is_space or token.like_num \n",
    "                                  or token.like_url or token.like_email)]        \n",
    "    #Returns a list of tokens\n",
    "    return tokenized\n",
    "\n",
    "#Initializing a list where to add the treated documents\n",
    "tokenized_documents = []\n",
    "\n",
    "for document in clean_documents:\n",
    "    #using basic tokenizer on the document with Spacy's chunks disabled\n",
    "    tokenized_documents.append(basic_tokenizer(document))\n",
    "\n",
    "#Adding the tokenized documents to the dataframe\n",
    "df['Tokenized'] = tokenized_documents\n",
    "\n",
    "#printing a few examples of what the treated documents look like now\n",
    "for i in range(5):\n",
    "    print(\"Cleansed: \"+clean_documents[i]+\"\\n\")\n",
    "    print(\"Tokenized: \"+str(tokenized_documents[i])+\"\\n\")"
   ]
  },
  {
   "cell_type": "markdown",
   "id": "75492f35",
   "metadata": {},
   "source": [
    "After the documents have been tokenized and treated as still words, it's relevant to turn the text into numeric form that computer algorithms can understand. Two common ways are TFIDF and BOW vectorizations. Acquaint yourself with both, and choose which one you want to use.\n",
    "\n",
    "Do you want to use __[TFIDF](http://scikit-learn.org/stable/modules/generated/sklearn.feature_extraction.text.TfidfVectorizer.html#)__ or __[Bag-of-Words](https://scikit-learn.org/stable/modules/generated/sklearn.feature_extraction.text.CountVectorizer.html)__ vectorization?\n",
    "\n",
    "<b>Explain why you decided as you did</b>"
   ]
  },
  {
   "cell_type": "code",
   "execution_count": 17,
   "id": "3952795e",
   "metadata": {},
   "outputs": [],
   "source": [
    "from sklearn.feature_extraction.text import TfidfVectorizer, CountVectorizer\n",
    "\n",
    "#the dummy function that returns the already tokenized document\n",
    "def id_fun(already_tokenized):\n",
    "    return already_tokenized\n",
    "\n",
    "#initializing tf-idf\n",
    "if chosen_vectorization == \"TFIDF\":\n",
    "    vectorizer = TfidfVectorizer(\n",
    "        analyzer='word',\n",
    "        tokenizer=id_fun,\n",
    "        preprocessor=id_fun,\n",
    "        token_pattern=None)\n",
    "    \n",
    "#initializing bag-of-words\n",
    "else:\n",
    "    vectorizer = CountVectorizer(\n",
    "        analyzer='word',\n",
    "        tokenizer=id_fun,\n",
    "        preprocessor=id_fun,\n",
    "        token_pattern=None)\n",
    "    \n",
    "#implementing the vectorization\n",
    "vectorized = vectorizer.fit_transform(tokenized_documents)\n",
    "#tweaking the form of the data for analysis\n",
    "dense = vectorized.todense()"
   ]
  },
  {
   "cell_type": "code",
   "execution_count": 18,
   "id": "10b6390d",
   "metadata": {},
   "outputs": [],
   "source": [
    "'''\n",
    "Making a simple function that will name all the columns \n",
    "in the dataset of the vectorized documents\n",
    "'''\n",
    "\n",
    "def name_x(dense, doc):\n",
    "    shape = dense.shape\n",
    "    # Generate column names with running numeration\n",
    "    column_names = [f'x_{i+1}' for i in range(shape[1])]\n",
    "\n",
    "    data = dense\n",
    "\n",
    "    df = pd.DataFrame(data, columns=column_names)\n",
    "    df['Clean'] = doc\n",
    "    \n",
    "    return df"
   ]
  },
  {
   "cell_type": "code",
   "execution_count": 19,
   "id": "5e0bb135",
   "metadata": {
    "scrolled": true
   },
   "outputs": [
    {
     "data": {
      "text/html": [
       "<div>\n",
       "<style scoped>\n",
       "    .dataframe tbody tr th:only-of-type {\n",
       "        vertical-align: middle;\n",
       "    }\n",
       "\n",
       "    .dataframe tbody tr th {\n",
       "        vertical-align: top;\n",
       "    }\n",
       "\n",
       "    .dataframe thead th {\n",
       "        text-align: right;\n",
       "    }\n",
       "</style>\n",
       "<table border=\"1\" class=\"dataframe\">\n",
       "  <thead>\n",
       "    <tr style=\"text-align: right;\">\n",
       "      <th></th>\n",
       "      <th>x_1</th>\n",
       "      <th>x_2</th>\n",
       "      <th>x_3</th>\n",
       "      <th>x_4</th>\n",
       "      <th>x_5</th>\n",
       "      <th>x_6</th>\n",
       "      <th>x_7</th>\n",
       "      <th>x_8</th>\n",
       "      <th>x_9</th>\n",
       "      <th>x_10</th>\n",
       "      <th>...</th>\n",
       "      <th>x_5428</th>\n",
       "      <th>x_5429</th>\n",
       "      <th>x_5430</th>\n",
       "      <th>x_5431</th>\n",
       "      <th>x_5432</th>\n",
       "      <th>x_5433</th>\n",
       "      <th>x_5434</th>\n",
       "      <th>x_5435</th>\n",
       "      <th>x_5436</th>\n",
       "      <th>Clean</th>\n",
       "    </tr>\n",
       "  </thead>\n",
       "  <tbody>\n",
       "    <tr>\n",
       "      <th>0</th>\n",
       "      <td>0</td>\n",
       "      <td>0</td>\n",
       "      <td>0</td>\n",
       "      <td>0</td>\n",
       "      <td>0</td>\n",
       "      <td>0</td>\n",
       "      <td>0</td>\n",
       "      <td>0</td>\n",
       "      <td>0</td>\n",
       "      <td>0</td>\n",
       "      <td>...</td>\n",
       "      <td>0</td>\n",
       "      <td>0</td>\n",
       "      <td>0</td>\n",
       "      <td>0</td>\n",
       "      <td>0</td>\n",
       "      <td>0</td>\n",
       "      <td>0</td>\n",
       "      <td>0</td>\n",
       "      <td>0</td>\n",
       "      <td>We want to minimize the damage to normal tissu...</td>\n",
       "    </tr>\n",
       "    <tr>\n",
       "      <th>1</th>\n",
       "      <td>0</td>\n",
       "      <td>0</td>\n",
       "      <td>0</td>\n",
       "      <td>0</td>\n",
       "      <td>0</td>\n",
       "      <td>0</td>\n",
       "      <td>0</td>\n",
       "      <td>0</td>\n",
       "      <td>0</td>\n",
       "      <td>0</td>\n",
       "      <td>...</td>\n",
       "      <td>0</td>\n",
       "      <td>0</td>\n",
       "      <td>0</td>\n",
       "      <td>0</td>\n",
       "      <td>0</td>\n",
       "      <td>0</td>\n",
       "      <td>0</td>\n",
       "      <td>0</td>\n",
       "      <td>0</td>\n",
       "      <td>Marsollier said the weasel died - and little r...</td>\n",
       "    </tr>\n",
       "    <tr>\n",
       "      <th>2</th>\n",
       "      <td>0</td>\n",
       "      <td>0</td>\n",
       "      <td>0</td>\n",
       "      <td>0</td>\n",
       "      <td>1</td>\n",
       "      <td>1</td>\n",
       "      <td>0</td>\n",
       "      <td>0</td>\n",
       "      <td>0</td>\n",
       "      <td>0</td>\n",
       "      <td>...</td>\n",
       "      <td>0</td>\n",
       "      <td>0</td>\n",
       "      <td>0</td>\n",
       "      <td>0</td>\n",
       "      <td>0</td>\n",
       "      <td>0</td>\n",
       "      <td>0</td>\n",
       "      <td>0</td>\n",
       "      <td>0</td>\n",
       "      <td>We're out of kindergarten, but only in about t...</td>\n",
       "    </tr>\n",
       "    <tr>\n",
       "      <th>3</th>\n",
       "      <td>0</td>\n",
       "      <td>0</td>\n",
       "      <td>0</td>\n",
       "      <td>0</td>\n",
       "      <td>0</td>\n",
       "      <td>1</td>\n",
       "      <td>0</td>\n",
       "      <td>0</td>\n",
       "      <td>0</td>\n",
       "      <td>0</td>\n",
       "      <td>...</td>\n",
       "      <td>0</td>\n",
       "      <td>0</td>\n",
       "      <td>0</td>\n",
       "      <td>0</td>\n",
       "      <td>0</td>\n",
       "      <td>0</td>\n",
       "      <td>0</td>\n",
       "      <td>0</td>\n",
       "      <td>0</td>\n",
       "      <td>Sign up to receive our weekly newsletter of th...</td>\n",
       "    </tr>\n",
       "    <tr>\n",
       "      <th>4</th>\n",
       "      <td>0</td>\n",
       "      <td>0</td>\n",
       "      <td>0</td>\n",
       "      <td>0</td>\n",
       "      <td>0</td>\n",
       "      <td>0</td>\n",
       "      <td>0</td>\n",
       "      <td>0</td>\n",
       "      <td>0</td>\n",
       "      <td>0</td>\n",
       "      <td>...</td>\n",
       "      <td>0</td>\n",
       "      <td>0</td>\n",
       "      <td>0</td>\n",
       "      <td>0</td>\n",
       "      <td>0</td>\n",
       "      <td>0</td>\n",
       "      <td>0</td>\n",
       "      <td>0</td>\n",
       "      <td>0</td>\n",
       "      <td>Ministry of Foreign Affairs Quote Prime Minist...</td>\n",
       "    </tr>\n",
       "  </tbody>\n",
       "</table>\n",
       "<p>5 rows × 5437 columns</p>\n",
       "</div>"
      ],
      "text/plain": [
       "   x_1  x_2  x_3  x_4  x_5  x_6  x_7  x_8  x_9  x_10  ...  x_5428  x_5429  \\\n",
       "0    0    0    0    0    0    0    0    0    0     0  ...       0       0   \n",
       "1    0    0    0    0    0    0    0    0    0     0  ...       0       0   \n",
       "2    0    0    0    0    1    1    0    0    0     0  ...       0       0   \n",
       "3    0    0    0    0    0    1    0    0    0     0  ...       0       0   \n",
       "4    0    0    0    0    0    0    0    0    0     0  ...       0       0   \n",
       "\n",
       "   x_5430  x_5431  x_5432  x_5433  x_5434  x_5435  x_5436  \\\n",
       "0       0       0       0       0       0       0       0   \n",
       "1       0       0       0       0       0       0       0   \n",
       "2       0       0       0       0       0       0       0   \n",
       "3       0       0       0       0       0       0       0   \n",
       "4       0       0       0       0       0       0       0   \n",
       "\n",
       "                                               Clean  \n",
       "0  We want to minimize the damage to normal tissu...  \n",
       "1  Marsollier said the weasel died - and little r...  \n",
       "2  We're out of kindergarten, but only in about t...  \n",
       "3  Sign up to receive our weekly newsletter of th...  \n",
       "4  Ministry of Foreign Affairs Quote Prime Minist...  \n",
       "\n",
       "[5 rows x 5437 columns]"
      ]
     },
     "execution_count": 19,
     "metadata": {},
     "output_type": "execute_result"
    }
   ],
   "source": [
    "'''\n",
    "Defining which part of the data is the data and which one is the label,\n",
    "using the function defined just previously\n",
    "'''\n",
    "\n",
    "X = name_x(dense, df['Document Clean'])\n",
    "y =  df['Label']\n",
    "\n",
    "#printing out a small example of what the data looks like\n",
    "X.head()"
   ]
  },
  {
   "cell_type": "markdown",
   "id": "f2621647",
   "metadata": {},
   "source": [
    "<b>What are the cleaning operations performed above on the CERN datasets? Try to search for what they do and think about why they should/should not be performed.</b>"
   ]
  },
  {
   "cell_type": "markdown",
   "id": "6ed187be",
   "metadata": {},
   "source": [
    "Then we split the found data to training and testing data. \n",
    "Sometimes we also use validation data. \n",
    "\n",
    "<b>What are common splits in percentages</b>"
   ]
  },
  {
   "cell_type": "code",
   "execution_count": 20,
   "id": "3108069f",
   "metadata": {},
   "outputs": [],
   "source": [
    "from sklearn.model_selection import train_test_split\n",
    "X_Train, X_Test, y_train, y_test = train_test_split(X, y, stratify=y, random_state=1)"
   ]
  },
  {
   "cell_type": "code",
   "execution_count": 21,
   "id": "1a663a95",
   "metadata": {},
   "outputs": [],
   "source": [
    "#Removing the non-numerical column from the data before passing this on to the ML algorithms\n",
    "X_train = X_Train.drop(['Clean'], axis =1)\n",
    "X_test = X_Test.drop(['Clean'], axis =1)"
   ]
  },
  {
   "cell_type": "code",
   "execution_count": 22,
   "id": "f5053923",
   "metadata": {},
   "outputs": [],
   "source": [
    "#Move this block to the location in the code from where you want to start tracking\n",
    "start_time = time.time()"
   ]
  },
  {
   "cell_type": "markdown",
   "id": "04ac7da4",
   "metadata": {},
   "source": [
    "Now choosing and fitting the ML algorithm you chose earlier."
   ]
  },
  {
   "cell_type": "code",
   "execution_count": 23,
   "id": "1daf7d8e",
   "metadata": {},
   "outputs": [],
   "source": [
    "name = chosen_algorithm\n",
    "clf = choose_algorithm(name).fit(X_train, y_train)"
   ]
  },
  {
   "cell_type": "code",
   "execution_count": 24,
   "id": "8001bbdb",
   "metadata": {},
   "outputs": [
    {
     "name": "stdout",
     "output_type": "stream",
     "text": [
      "Memory Used: 8584867840 bytes\n",
      "Time Elapsed: 0.5553514957427979 seconds\n"
     ]
    }
   ],
   "source": [
    "'''\n",
    "Move this block to where you want to stop the\n",
    "tracking of used time and memory of the code.\n",
    "'''\n",
    "\n",
    "#start_time = time.time()\n",
    "# Call the function to get memory usage and elapsed time\n",
    "memory_used, time_elapsed = track_memory_and_time(start_time)\n",
    "\n",
    "print(f\"Memory Used: {memory_used} bytes\")\n",
    "print(f\"Time Elapsed: {time_elapsed} seconds\")"
   ]
  },
  {
   "cell_type": "markdown",
   "id": "f6a93838",
   "metadata": {},
   "source": [
    "The block below prints out the accuracy of the ML algorithm on the test set.\n",
    "If used algorithm is the decision tree, it also prints out the visualization of the tree.\n",
    "\n",
    "<b>How could you check the accuracy? Think of a strategy depending on the used algorithm.</b>\n",
    "\n",
    "Consider cases with correct labels in the training data and cases with unclear cases in the training data."
   ]
  },
  {
   "cell_type": "code",
   "execution_count": 25,
   "id": "102dacc8",
   "metadata": {},
   "outputs": [
    {
     "name": "stdout",
     "output_type": "stream",
     "text": [
      "The accuracy of the algorithm is: \n",
      "73.04075235109718%\n"
     ]
    },
    {
     "data": {
      "image/png": "[encoded data removed]",
      "text/plain": [
       "<Figure size 640x480 with 1 Axes>"
      ]
     },
     "metadata": {},
     "output_type": "display_data"
    }
   ],
   "source": [
    "print(\"The accuracy of the algorithm is: \")\n",
    "print(accuracy(clf, X_test, y_test))\n",
    "if chosen_algorithm == \"Tree\":\n",
    "    tree.plot_tree(clf)"
   ]
  },
  {
   "cell_type": "code",
   "execution_count": 26,
   "id": "a3cdc341",
   "metadata": {},
   "outputs": [],
   "source": [
    "#Creating a function that will identify when the algorithm diverged from the original label in the dataset\n",
    "def find_differences(clf, X_test, y_test):\n",
    "    \n",
    "    predictions = []\n",
    "    test_labels = []\n",
    "    column_names = list(X_test.columns.values)\n",
    "    events = pd.DataFrame(columns=list(X_test.columns.values))\n",
    "    \n",
    "    for i in range(len(list(y_test))-1):\n",
    "        predict = [X_test.drop(columns=\"Clean\", axis=1).values[i+1]]\n",
    "        prediction = str(clf.predict(predict)[0])\n",
    "        if str(clf.predict(predict)[0]) != list(y_test)[i+1]:\n",
    "            predictions.append(prediction)\n",
    "            test_labels.append(list(y_test)[i+1])\n",
    "            events.loc[len(events)] = X_test.values[i+1]\n",
    "            \n",
    "    df = pd.DataFrame(columns=['Prediction', 'Original label'])\n",
    "    df['Prediction']= predictions\n",
    "    df['Original label']= test_labels\n",
    "\n",
    "    df = pd.concat([df, events], axis=1)\n",
    "    return df"
   ]
  },
  {
   "cell_type": "code",
   "execution_count": 27,
   "id": "08278ca8",
   "metadata": {},
   "outputs": [],
   "source": [
    "#Creating a function that will find the documents that the algorithm diverged on\n",
    "def get_original_doc(differences):\n",
    "    df = differences(['Prediction', 'Original label', 'Clean'])\n",
    "    return df"
   ]
  },
  {
   "cell_type": "code",
   "execution_count": 28,
   "id": "b107c5b4",
   "metadata": {},
   "outputs": [
    {
     "name": "stdout",
     "output_type": "stream",
     "text": [
      "Instances in which the algorithm prediction diverged from the original label were: \n"
     ]
    },
    {
     "data": {
      "text/html": [
       "<div>\n",
       "<style scoped>\n",
       "    .dataframe tbody tr th:only-of-type {\n",
       "        vertical-align: middle;\n",
       "    }\n",
       "\n",
       "    .dataframe tbody tr th {\n",
       "        vertical-align: top;\n",
       "    }\n",
       "\n",
       "    .dataframe thead th {\n",
       "        text-align: right;\n",
       "    }\n",
       "</style>\n",
       "<table border=\"1\" class=\"dataframe\">\n",
       "  <thead>\n",
       "    <tr style=\"text-align: right;\">\n",
       "      <th></th>\n",
       "      <th>Prediction</th>\n",
       "      <th>Original label</th>\n",
       "      <th>Clean</th>\n",
       "    </tr>\n",
       "  </thead>\n",
       "  <tbody>\n",
       "    <tr>\n",
       "      <th>0</th>\n",
       "      <td>Human capital</td>\n",
       "      <td>Scientific knowledge</td>\n",
       "      <td>A triumph of the human spirit. Gian Guidice, Head of Theoretical Physics at CERN (the European Organization for Nuclear Research) said: Hawking's results are a constant source of inspiration for theoretical research done at CERN. Hawking has been an inspiration to generations of young people across the world.</td>\n",
       "    </tr>\n",
       "    <tr>\n",
       "      <th>1</th>\n",
       "      <td>Human capital</td>\n",
       "      <td>Scientific knowledge</td>\n",
       "      <td>The second was just one 86,400th of an Earth day. In this March 30, 2010 file picture the globe of the European Organization for Nuclear Research, CERN, is illuminated outside Geneva, Switzerland. In the 20th century, we apes got so good at measurement that the uncertainty and variations in these grubby natural quantities began to be a problem.</td>\n",
       "    </tr>\n",
       "    <tr>\n",
       "      <th>2</th>\n",
       "      <td>Human capital</td>\n",
       "      <td>Scientific knowledge</td>\n",
       "      <td>If they are from the dark matter, we will know the location. Prototypes of instruments to be used in the Dampe research were taken to CERN, the European Organization for Nuclear Research, to be calibrated, the first time this has been done with a large detector from China. Zang took part in all the calibrations.</td>\n",
       "    </tr>\n",
       "    <tr>\n",
       "      <th>3</th>\n",
       "      <td>Scientific knowledge</td>\n",
       "      <td>Technology</td>\n",
       "      <td>The largest scientific machine went offline when a weasel-like rodent bit through its cables and also caused small damage to some equipment. Based near Geneva in Switzerland, LHC, known as the world's largest atom smasher, was temporarily disabled due to a little weasel, announced officials at European Organization for Nuclear Research, also known as CERN. The 17-mile long underground setup and machines halted on Thursday night, the CERN report added.</td>\n",
       "    </tr>\n",
       "    <tr>\n",
       "      <th>4</th>\n",
       "      <td>Technology</td>\n",
       "      <td>Human capital</td>\n",
       "      <td>scientific and technical capacity - Kucinskis RIGA, Sep 20, BNS - The European Organization for Nuclear Research (CERN) is an important partner to Latvia in building scientific and technical capacity, Prime Minister Maris Kucinskis (Greens/Farmers) told BNS. Kucinskis is visiting Geneva today, where he has been to the CERN council and met with CERN Director General Fabiola Gianotti to discuss cooperation between Latvia and CERN and acquaint himself with the scientific achievements of CERN.</td>\n",
       "    </tr>\n",
       "    <tr>\n",
       "      <th>...</th>\n",
       "      <td>...</td>\n",
       "      <td>...</td>\n",
       "      <td>...</td>\n",
       "    </tr>\n",
       "    <tr>\n",
       "      <th>81</th>\n",
       "      <td>Technology</td>\n",
       "      <td>Human capital</td>\n",
       "      <td>Collaboration between Turkish researchers and the European Organization for Nuclear Research, also known as CERN, will help Turkey's advance in science and technology, a senior university professor involved in the joint effort told Anadolu Agency Wednesday. In March, Turkey's Istanbul Bilgi University became part of CERN's Atlas experiment, which is designed to observe dimensions and particles that could make up dark matter, which, according to researchers, makes up most of the universe, but can only be detected via its gravitational effects.</td>\n",
       "    </tr>\n",
       "    <tr>\n",
       "      <th>82</th>\n",
       "      <td>Human capital</td>\n",
       "      <td>Scientific knowledge</td>\n",
       "      <td>• AT&amp;T, one of the largest telecommunications companies in the world. • CERN, the European Organization for Nuclear Research, where physicists and engineers probe the fundamental structure of the universe. • SK Telecom, South Korea's largest telecommunications operator.</td>\n",
       "    </tr>\n",
       "    <tr>\n",
       "      <th>83</th>\n",
       "      <td>Human capital</td>\n",
       "      <td>Scientific knowledge</td>\n",
       "      <td>Graphic    Laurent Gillieron, Keystone Via Ap ; In this Feb. 16 file photo, a technician works in the LHC (Large Hadron Collider) tunnel of the European Organization for Nuclear Research, CERN, during a press visit in Meyrin, near Geneva, Switzerland. In March, researchers at the Large Hadron Collider discovered a new particle that could be a heavier cousin of the Higgs Boson particle (known colloquially as the God particle), a heavy neutrino or a graviton, a particle that transmits gravity.</td>\n",
       "    </tr>\n",
       "    <tr>\n",
       "      <th>84</th>\n",
       "      <td>Technology</td>\n",
       "      <td>Human capital</td>\n",
       "      <td>The trip was devised for students to investigate science outside of  the classroom. A highlight of the trip was an in depth tour of the CERN, the  European Organization for Nuclear Research, in Geneva, Switzerland. At the CERN, students learned about the Large Hadron Collider (LHC)  and participated in a rare underground experience to the Compact  Muon Solenoid (CMS), a general-purpose detector at the LHC.</td>\n",
       "    </tr>\n",
       "    <tr>\n",
       "      <th>85</th>\n",
       "      <td>Human capital</td>\n",
       "      <td>Scientific knowledge</td>\n",
       "      <td>European Organization for Nuclear Research (CERN) has issued requirement for Switzerland-Geneva: Research and development services and related consultancy services               Reference no. 192143-2016  Posted on: 02/06/2016</td>\n",
       "    </tr>\n",
       "  </tbody>\n",
       "</table>\n",
       "<p>86 rows × 3 columns</p>\n",
       "</div>"
      ],
      "text/plain": [
       "              Prediction        Original label  \\\n",
       "0   Human capital         Scientific knowledge   \n",
       "1   Human capital         Scientific knowledge   \n",
       "2   Human capital         Scientific knowledge   \n",
       "3   Scientific knowledge  Technology             \n",
       "4   Technology            Human capital          \n",
       "..         ...                      ...          \n",
       "81  Technology            Human capital          \n",
       "82  Human capital         Scientific knowledge   \n",
       "83  Human capital         Scientific knowledge   \n",
       "84  Technology            Human capital          \n",
       "85  Human capital         Scientific knowledge   \n",
       "\n",
       "                                                                                                                                                                                                                                                                                                                                                                                                                                                                                                                                                                    Clean  \n",
       "0   A triumph of the human spirit. Gian Guidice, Head of Theoretical Physics at CERN (the European Organization for Nuclear Research) said: Hawking's results are a constant source of inspiration for theoretical research done at CERN. Hawking has been an inspiration to generations of young people across the world.                                                                                                                                                                                                                                                 \n",
       "1   The second was just one 86,400th of an Earth day. In this March 30, 2010 file picture the globe of the European Organization for Nuclear Research, CERN, is illuminated outside Geneva, Switzerland. In the 20th century, we apes got so good at measurement that the uncertainty and variations in these grubby natural quantities began to be a problem.                                                                                                                                                                                                             \n",
       "2   If they are from the dark matter, we will know the location. Prototypes of instruments to be used in the Dampe research were taken to CERN, the European Organization for Nuclear Research, to be calibrated, the first time this has been done with a large detector from China. Zang took part in all the calibrations.                                                                                                                                                                                                                                              \n",
       "3   The largest scientific machine went offline when a weasel-like rodent bit through its cables and also caused small damage to some equipment. Based near Geneva in Switzerland, LHC, known as the world's largest atom smasher, was temporarily disabled due to a little weasel, announced officials at European Organization for Nuclear Research, also known as CERN. The 17-mile long underground setup and machines halted on Thursday night, the CERN report added.                                                                                                \n",
       "4   scientific and technical capacity - Kucinskis RIGA, Sep 20, BNS - The European Organization for Nuclear Research (CERN) is an important partner to Latvia in building scientific and technical capacity, Prime Minister Maris Kucinskis (Greens/Farmers) told BNS. Kucinskis is visiting Geneva today, where he has been to the CERN council and met with CERN Director General Fabiola Gianotti to discuss cooperation between Latvia and CERN and acquaint himself with the scientific achievements of CERN.                                                         \n",
       "..                                                                                                                                                                                                                                                                                                                                                                                                                                                                                                             ...                                                         \n",
       "81   Collaboration between Turkish researchers and the European Organization for Nuclear Research, also known as CERN, will help Turkey's advance in science and technology, a senior university professor involved in the joint effort told Anadolu Agency Wednesday. In March, Turkey's Istanbul Bilgi University became part of CERN's Atlas experiment, which is designed to observe dimensions and particles that could make up dark matter, which, according to researchers, makes up most of the universe, but can only be detected via its gravitational effects.  \n",
       "82  • AT&T, one of the largest telecommunications companies in the world. • CERN, the European Organization for Nuclear Research, where physicists and engineers probe the fundamental structure of the universe. • SK Telecom, South Korea's largest telecommunications operator.                                                                                                                                                                                                                                                                                         \n",
       "83  Graphic    Laurent Gillieron, Keystone Via Ap ; In this Feb. 16 file photo, a technician works in the LHC (Large Hadron Collider) tunnel of the European Organization for Nuclear Research, CERN, during a press visit in Meyrin, near Geneva, Switzerland. In March, researchers at the Large Hadron Collider discovered a new particle that could be a heavier cousin of the Higgs Boson particle (known colloquially as the God particle), a heavy neutrino or a graviton, a particle that transmits gravity.                                                       \n",
       "84  The trip was devised for students to investigate science outside of  the classroom. A highlight of the trip was an in depth tour of the CERN, the  European Organization for Nuclear Research, in Geneva, Switzerland. At the CERN, students learned about the Large Hadron Collider (LHC)  and participated in a rare underground experience to the Compact  Muon Solenoid (CMS), a general-purpose detector at the LHC.                                                                                                                                              \n",
       "85   European Organization for Nuclear Research (CERN) has issued requirement for Switzerland-Geneva: Research and development services and related consultancy services               Reference no. 192143-2016  Posted on: 02/06/2016                                                                                                                                                                                                                                                                                                                                    \n",
       "\n",
       "[86 rows x 3 columns]"
      ]
     },
     "metadata": {},
     "output_type": "display_data"
    }
   ],
   "source": [
    "print(\"Instances in which the algorithm prediction diverged from the original label were: \")\n",
    "df = find_differences(clf, X_Test, y_test)[['Prediction', 'Original label', 'Clean']]\n",
    "pd.set_option('display.max_colwidth', 0)\n",
    "display(df)"
   ]
  },
  {
   "cell_type": "markdown",
   "id": "59081aa3",
   "metadata": {},
   "source": [
    "<b>How do you know if this is to be agreed with or not? How is this different from a case with quantitative data? How would you go about improving the process and how would you get the resourches for this?</b>"
   ]
  },
  {
   "cell_type": "markdown",
   "id": "cd012134",
   "metadata": {},
   "source": [
    "Read on the __[energy use and co2](https://medium.com/stanford-magazine/carbon-and-the-cloud-d6f481b79dfe)__ effects of different types of AI. \n",
    "\n",
    "Briefly summarized, algorithms ran on a personal hard disk, require about 0.000005 kWh per gigabyte to save your data, whereas the combination of transmitting your data and storing it in a data center probably requires about 3 to 7 kWh per gigabyte. Moreover, storing 100 gigabytes of data in the cloud during a year releases 0.2 tons of CO2.\n",
    "\n",
    "Are you currently running your algorithm in the cloud of on your personal device? Based on the memory use trackers you have used in the code, calculate how much more or less (in %) doing the opposite would do.\n",
    "\n",
    "Who bears the costs of the pollution? Estimate the costs of pollution and consider a scenario where the data storer and user would bear the costs relevant to this. \n",
    "\n",
    "In addition, consider the rare minerals and their associated pollution required for an average server farm."
   ]
  },
  {
   "cell_type": "code",
   "execution_count": null,
   "id": "7b69375a",
   "metadata": {},
   "outputs": [],
   "source": []
  }
 ],
 "metadata": {
  "kernelspec": {
   "display_name": "Python 3 (ipykernel)",
   "language": "python",
   "name": "python3"
  },
  "language_info": {
   "codemirror_mode": {
    "name": "ipython",
    "version": 3
   },
   "file_extension": ".py",
   "mimetype": "text/x-python",
   "name": "python",
   "nbconvert_exporter": "python",
   "pygments_lexer": "ipython3",
   "version": "3.11.5"
  }
 },
 "nbformat": 4,
 "nbformat_minor": 5
}
